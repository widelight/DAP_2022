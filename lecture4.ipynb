{
  "nbformat": 4,
  "nbformat_minor": 0,
  "metadata": {
    "colab": {
      "provenance": [],
      "collapsed_sections": [],
      "include_colab_link": true
    },
    "kernelspec": {
      "name": "python3",
      "display_name": "Python 3"
    },
    "language_info": {
      "name": "python"
    }
  },
  "cells": [
    {
      "cell_type": "markdown",
      "metadata": {
        "id": "view-in-github",
        "colab_type": "text"
      },
      "source": [
        "<a href=\"https://colab.research.google.com/github/widelight/DAP_2022/blob/main/lecture4.ipynb\" target=\"_parent\"><img src=\"https://colab.research.google.com/assets/colab-badge.svg\" alt=\"Open In Colab\"/></a>"
      ]
    },
    {
      "cell_type": "code",
      "metadata": {
        "id": "HQS2UZY1bFnh"
      },
      "source": [
        "import numpy as np\n",
        "import pandas as pd\n",
        "import seaborn as sns\n",
        "import plotly.express as px\n",
        "import matplotlib.pyplot as plt"
      ],
      "execution_count": 1,
      "outputs": []
    },
    {
      "cell_type": "markdown",
      "metadata": {
        "id": "CRu9j1LVbm67"
      },
      "source": [
        "# Cars93 data\n",
        "In this lab, we would like to explore data about 93 number of vehicles."
      ]
    },
    {
      "cell_type": "code",
      "metadata": {
        "colab": {
          "base_uri": "https://localhost:8080/",
          "height": 386
        },
        "id": "XURptut9Y0Au",
        "outputId": "a056902f-1e07-4838-aa26-961e0297832b"
      },
      "source": [
        "df = pd.read_csv('https://raw.githubusercontent.com/selva86/datasets/master/Cars93_miss.csv')\n",
        "df.head()"
      ],
      "execution_count": 2,
      "outputs": [
        {
          "output_type": "execute_result",
          "data": {
            "text/plain": [
              "  Manufacturer    Model     Type  Min.Price  Price  Max.Price  MPG.city  \\\n",
              "0        Acura  Integra    Small       12.9   15.9       18.8      25.0   \n",
              "1          NaN   Legend  Midsize       29.2   33.9       38.7      18.0   \n",
              "2         Audi       90  Compact       25.9   29.1       32.3      20.0   \n",
              "3         Audi      100  Midsize        NaN   37.7       44.6      19.0   \n",
              "4          BMW     535i  Midsize        NaN   30.0        NaN      22.0   \n",
              "\n",
              "   MPG.highway             AirBags DriveTrain  ... Passengers  Length  \\\n",
              "0         31.0                None      Front  ...        5.0   177.0   \n",
              "1         25.0  Driver & Passenger      Front  ...        5.0   195.0   \n",
              "2         26.0         Driver only      Front  ...        5.0   180.0   \n",
              "3         26.0  Driver & Passenger        NaN  ...        6.0   193.0   \n",
              "4         30.0                 NaN       Rear  ...        4.0   186.0   \n",
              "\n",
              "   Wheelbase  Width  Turn.circle Rear.seat.room  Luggage.room  Weight  \\\n",
              "0      102.0   68.0         37.0           26.5           NaN  2705.0   \n",
              "1      115.0   71.0         38.0           30.0          15.0  3560.0   \n",
              "2      102.0   67.0         37.0           28.0          14.0  3375.0   \n",
              "3      106.0    NaN         37.0           31.0          17.0  3405.0   \n",
              "4      109.0   69.0         39.0           27.0          13.0  3640.0   \n",
              "\n",
              "    Origin           Make  \n",
              "0  non-USA  Acura Integra  \n",
              "1  non-USA   Acura Legend  \n",
              "2  non-USA        Audi 90  \n",
              "3  non-USA       Audi 100  \n",
              "4  non-USA       BMW 535i  \n",
              "\n",
              "[5 rows x 27 columns]"
            ],
            "text/html": [
              "\n",
              "  <div id=\"df-fb50eae2-7c4a-43ed-b641-5d72d219c37a\">\n",
              "    <div class=\"colab-df-container\">\n",
              "      <div>\n",
              "<style scoped>\n",
              "    .dataframe tbody tr th:only-of-type {\n",
              "        vertical-align: middle;\n",
              "    }\n",
              "\n",
              "    .dataframe tbody tr th {\n",
              "        vertical-align: top;\n",
              "    }\n",
              "\n",
              "    .dataframe thead th {\n",
              "        text-align: right;\n",
              "    }\n",
              "</style>\n",
              "<table border=\"1\" class=\"dataframe\">\n",
              "  <thead>\n",
              "    <tr style=\"text-align: right;\">\n",
              "      <th></th>\n",
              "      <th>Manufacturer</th>\n",
              "      <th>Model</th>\n",
              "      <th>Type</th>\n",
              "      <th>Min.Price</th>\n",
              "      <th>Price</th>\n",
              "      <th>Max.Price</th>\n",
              "      <th>MPG.city</th>\n",
              "      <th>MPG.highway</th>\n",
              "      <th>AirBags</th>\n",
              "      <th>DriveTrain</th>\n",
              "      <th>...</th>\n",
              "      <th>Passengers</th>\n",
              "      <th>Length</th>\n",
              "      <th>Wheelbase</th>\n",
              "      <th>Width</th>\n",
              "      <th>Turn.circle</th>\n",
              "      <th>Rear.seat.room</th>\n",
              "      <th>Luggage.room</th>\n",
              "      <th>Weight</th>\n",
              "      <th>Origin</th>\n",
              "      <th>Make</th>\n",
              "    </tr>\n",
              "  </thead>\n",
              "  <tbody>\n",
              "    <tr>\n",
              "      <th>0</th>\n",
              "      <td>Acura</td>\n",
              "      <td>Integra</td>\n",
              "      <td>Small</td>\n",
              "      <td>12.9</td>\n",
              "      <td>15.9</td>\n",
              "      <td>18.8</td>\n",
              "      <td>25.0</td>\n",
              "      <td>31.0</td>\n",
              "      <td>None</td>\n",
              "      <td>Front</td>\n",
              "      <td>...</td>\n",
              "      <td>5.0</td>\n",
              "      <td>177.0</td>\n",
              "      <td>102.0</td>\n",
              "      <td>68.0</td>\n",
              "      <td>37.0</td>\n",
              "      <td>26.5</td>\n",
              "      <td>NaN</td>\n",
              "      <td>2705.0</td>\n",
              "      <td>non-USA</td>\n",
              "      <td>Acura Integra</td>\n",
              "    </tr>\n",
              "    <tr>\n",
              "      <th>1</th>\n",
              "      <td>NaN</td>\n",
              "      <td>Legend</td>\n",
              "      <td>Midsize</td>\n",
              "      <td>29.2</td>\n",
              "      <td>33.9</td>\n",
              "      <td>38.7</td>\n",
              "      <td>18.0</td>\n",
              "      <td>25.0</td>\n",
              "      <td>Driver &amp; Passenger</td>\n",
              "      <td>Front</td>\n",
              "      <td>...</td>\n",
              "      <td>5.0</td>\n",
              "      <td>195.0</td>\n",
              "      <td>115.0</td>\n",
              "      <td>71.0</td>\n",
              "      <td>38.0</td>\n",
              "      <td>30.0</td>\n",
              "      <td>15.0</td>\n",
              "      <td>3560.0</td>\n",
              "      <td>non-USA</td>\n",
              "      <td>Acura Legend</td>\n",
              "    </tr>\n",
              "    <tr>\n",
              "      <th>2</th>\n",
              "      <td>Audi</td>\n",
              "      <td>90</td>\n",
              "      <td>Compact</td>\n",
              "      <td>25.9</td>\n",
              "      <td>29.1</td>\n",
              "      <td>32.3</td>\n",
              "      <td>20.0</td>\n",
              "      <td>26.0</td>\n",
              "      <td>Driver only</td>\n",
              "      <td>Front</td>\n",
              "      <td>...</td>\n",
              "      <td>5.0</td>\n",
              "      <td>180.0</td>\n",
              "      <td>102.0</td>\n",
              "      <td>67.0</td>\n",
              "      <td>37.0</td>\n",
              "      <td>28.0</td>\n",
              "      <td>14.0</td>\n",
              "      <td>3375.0</td>\n",
              "      <td>non-USA</td>\n",
              "      <td>Audi 90</td>\n",
              "    </tr>\n",
              "    <tr>\n",
              "      <th>3</th>\n",
              "      <td>Audi</td>\n",
              "      <td>100</td>\n",
              "      <td>Midsize</td>\n",
              "      <td>NaN</td>\n",
              "      <td>37.7</td>\n",
              "      <td>44.6</td>\n",
              "      <td>19.0</td>\n",
              "      <td>26.0</td>\n",
              "      <td>Driver &amp; Passenger</td>\n",
              "      <td>NaN</td>\n",
              "      <td>...</td>\n",
              "      <td>6.0</td>\n",
              "      <td>193.0</td>\n",
              "      <td>106.0</td>\n",
              "      <td>NaN</td>\n",
              "      <td>37.0</td>\n",
              "      <td>31.0</td>\n",
              "      <td>17.0</td>\n",
              "      <td>3405.0</td>\n",
              "      <td>non-USA</td>\n",
              "      <td>Audi 100</td>\n",
              "    </tr>\n",
              "    <tr>\n",
              "      <th>4</th>\n",
              "      <td>BMW</td>\n",
              "      <td>535i</td>\n",
              "      <td>Midsize</td>\n",
              "      <td>NaN</td>\n",
              "      <td>30.0</td>\n",
              "      <td>NaN</td>\n",
              "      <td>22.0</td>\n",
              "      <td>30.0</td>\n",
              "      <td>NaN</td>\n",
              "      <td>Rear</td>\n",
              "      <td>...</td>\n",
              "      <td>4.0</td>\n",
              "      <td>186.0</td>\n",
              "      <td>109.0</td>\n",
              "      <td>69.0</td>\n",
              "      <td>39.0</td>\n",
              "      <td>27.0</td>\n",
              "      <td>13.0</td>\n",
              "      <td>3640.0</td>\n",
              "      <td>non-USA</td>\n",
              "      <td>BMW 535i</td>\n",
              "    </tr>\n",
              "  </tbody>\n",
              "</table>\n",
              "<p>5 rows × 27 columns</p>\n",
              "</div>\n",
              "      <button class=\"colab-df-convert\" onclick=\"convertToInteractive('df-fb50eae2-7c4a-43ed-b641-5d72d219c37a')\"\n",
              "              title=\"Convert this dataframe to an interactive table.\"\n",
              "              style=\"display:none;\">\n",
              "        \n",
              "  <svg xmlns=\"http://www.w3.org/2000/svg\" height=\"24px\"viewBox=\"0 0 24 24\"\n",
              "       width=\"24px\">\n",
              "    <path d=\"M0 0h24v24H0V0z\" fill=\"none\"/>\n",
              "    <path d=\"M18.56 5.44l.94 2.06.94-2.06 2.06-.94-2.06-.94-.94-2.06-.94 2.06-2.06.94zm-11 1L8.5 8.5l.94-2.06 2.06-.94-2.06-.94L8.5 2.5l-.94 2.06-2.06.94zm10 10l.94 2.06.94-2.06 2.06-.94-2.06-.94-.94-2.06-.94 2.06-2.06.94z\"/><path d=\"M17.41 7.96l-1.37-1.37c-.4-.4-.92-.59-1.43-.59-.52 0-1.04.2-1.43.59L10.3 9.45l-7.72 7.72c-.78.78-.78 2.05 0 2.83L4 21.41c.39.39.9.59 1.41.59.51 0 1.02-.2 1.41-.59l7.78-7.78 2.81-2.81c.8-.78.8-2.07 0-2.86zM5.41 20L4 18.59l7.72-7.72 1.47 1.35L5.41 20z\"/>\n",
              "  </svg>\n",
              "      </button>\n",
              "      \n",
              "  <style>\n",
              "    .colab-df-container {\n",
              "      display:flex;\n",
              "      flex-wrap:wrap;\n",
              "      gap: 12px;\n",
              "    }\n",
              "\n",
              "    .colab-df-convert {\n",
              "      background-color: #E8F0FE;\n",
              "      border: none;\n",
              "      border-radius: 50%;\n",
              "      cursor: pointer;\n",
              "      display: none;\n",
              "      fill: #1967D2;\n",
              "      height: 32px;\n",
              "      padding: 0 0 0 0;\n",
              "      width: 32px;\n",
              "    }\n",
              "\n",
              "    .colab-df-convert:hover {\n",
              "      background-color: #E2EBFA;\n",
              "      box-shadow: 0px 1px 2px rgba(60, 64, 67, 0.3), 0px 1px 3px 1px rgba(60, 64, 67, 0.15);\n",
              "      fill: #174EA6;\n",
              "    }\n",
              "\n",
              "    [theme=dark] .colab-df-convert {\n",
              "      background-color: #3B4455;\n",
              "      fill: #D2E3FC;\n",
              "    }\n",
              "\n",
              "    [theme=dark] .colab-df-convert:hover {\n",
              "      background-color: #434B5C;\n",
              "      box-shadow: 0px 1px 3px 1px rgba(0, 0, 0, 0.15);\n",
              "      filter: drop-shadow(0px 1px 2px rgba(0, 0, 0, 0.3));\n",
              "      fill: #FFFFFF;\n",
              "    }\n",
              "  </style>\n",
              "\n",
              "      <script>\n",
              "        const buttonEl =\n",
              "          document.querySelector('#df-fb50eae2-7c4a-43ed-b641-5d72d219c37a button.colab-df-convert');\n",
              "        buttonEl.style.display =\n",
              "          google.colab.kernel.accessAllowed ? 'block' : 'none';\n",
              "\n",
              "        async function convertToInteractive(key) {\n",
              "          const element = document.querySelector('#df-fb50eae2-7c4a-43ed-b641-5d72d219c37a');\n",
              "          const dataTable =\n",
              "            await google.colab.kernel.invokeFunction('convertToInteractive',\n",
              "                                                     [key], {});\n",
              "          if (!dataTable) return;\n",
              "\n",
              "          const docLinkHtml = 'Like what you see? Visit the ' +\n",
              "            '<a target=\"_blank\" href=https://colab.research.google.com/notebooks/data_table.ipynb>data table notebook</a>'\n",
              "            + ' to learn more about interactive tables.';\n",
              "          element.innerHTML = '';\n",
              "          dataTable['output_type'] = 'display_data';\n",
              "          await google.colab.output.renderOutput(dataTable, element);\n",
              "          const docLink = document.createElement('div');\n",
              "          docLink.innerHTML = docLinkHtml;\n",
              "          element.appendChild(docLink);\n",
              "        }\n",
              "      </script>\n",
              "    </div>\n",
              "  </div>\n",
              "  "
            ]
          },
          "metadata": {},
          "execution_count": 2
        }
      ]
    },
    {
      "cell_type": "markdown",
      "metadata": {
        "id": "gGdixnTAY2B4"
      },
      "source": [
        "## Matplotlib\n",
        "Please refer the [official doc](https://matplotlib.org/) or following [article](https://www.machinelearningplus.com/plots/matplotlib-tutorial-complete-guide-python-plot-examples/) for further detailed tricks."
      ]
    },
    {
      "cell_type": "markdown",
      "source": [
        "### Line-plot\n",
        "Draw a line-plot for the age-specific height averages for men and women\n",
        "\n",
        "- Men are represented in blue and women in red\n",
        "- Use x_label() and y_label(), title(), and legend() to draw\n",
        "- Use xticks() to separate the intervals on the x-axis graph"
      ],
      "metadata": {
        "id": "AFEVZEKRFYxO"
      }
    },
    {
      "cell_type": "code",
      "source": [
        "# Male Data\n",
        "x = [20,30,40,50,60]\n",
        "y = [174.4, 174.9, 173.2, 170.5, 168.3]\n",
        "\n",
        "plt.plot(x,y,label='Man', color='blue')\n",
        "\n",
        "# Female Data\n",
        "x = [20,30,40,50,60]\n",
        "y = [161.3, 161.9, 160.5, 157.6, 155.4]\n",
        "\n",
        "plt.plot(x,y,label='woman', color='red')\n",
        "\n",
        "# Sepsarate x \n",
        "plt.xticks(np.arange(20,70,10))\n",
        "\n",
        "# Draw\n",
        "plt.xlabel(\"age\")\n",
        "plt.ylabel(\"height\")\n",
        "plt.title(\"Comparison of heights by age of men and women\")\n",
        "plt.legend()\n",
        "\n",
        "plt.show()"
      ],
      "metadata": {
        "colab": {
          "base_uri": "https://localhost:8080/",
          "height": 295
        },
        "id": "qxmCNDM3FXLH",
        "outputId": "64c32361-bba8-4ed9-f650-13c19ab4faf8"
      },
      "execution_count": 3,
      "outputs": [
        {
          "output_type": "display_data",
          "data": {
            "text/plain": [
              "<Figure size 432x288 with 1 Axes>"
            ],
            "image/png": "[encoded data removed]"
          },
          "metadata": {
            "needs_background": "light"
          }
        }
      ]
    },
    {
      "cell_type": "markdown",
      "source": [
        "###Histogram Plot\n",
        "Draw the horsepower mean by type\n",
        "\n",
        "- df_sample should contain only `Type` and `Horsepower` properties\n",
        "- Drop the `NAN` value"
      ],
      "metadata": {
        "id": "vWzP080x7JDF"
      }
    },
    {
      "cell_type": "code",
      "source": [
        "df_sample = df['Type']['Horsepower']\n",
        "df_sample"
      ],
      "metadata": {
        "colab": {
          "base_uri": "https://localhost:8080/",
          "height": 349
        },
        "id": "rpG4bvlH7K0E",
        "outputId": "4c1ece7a-4830-4207-d39e-20d001c052fc"
      },
      "execution_count": 4,
      "outputs": [
        {
          "output_type": "error",
          "ename": "KeyError",
          "evalue": "ignored",
          "traceback": [
            "\u001b[0;31m---------------------------------------------------------------------------\u001b[0m",
            "\u001b[0;31mKeyError\u001b[0m                                  Traceback (most recent call last)",
            "\u001b[0;32m<ipython-input-4-6519ef52a183>\u001b[0m in \u001b[0;36m<module>\u001b[0;34m\u001b[0m\n\u001b[0;32m----> 1\u001b[0;31m \u001b[0mdf_sample\u001b[0m \u001b[0;34m=\u001b[0m \u001b[0mdf\u001b[0m\u001b[0;34m[\u001b[0m\u001b[0;34m'Type'\u001b[0m\u001b[0;34m]\u001b[0m\u001b[0;34m[\u001b[0m\u001b[0;34m'Horsepower'\u001b[0m\u001b[0;34m]\u001b[0m\u001b[0;34m\u001b[0m\u001b[0;34m\u001b[0m\u001b[0m\n\u001b[0m\u001b[1;32m      2\u001b[0m \u001b[0mdf_sample\u001b[0m\u001b[0;34m\u001b[0m\u001b[0;34m\u001b[0m\u001b[0m\n",
            "\u001b[0;32m/usr/local/lib/python3.7/dist-packages/pandas/core/series.py\u001b[0m in \u001b[0;36m__getitem__\u001b[0;34m(self, key)\u001b[0m\n\u001b[1;32m    940\u001b[0m \u001b[0;34m\u001b[0m\u001b[0m\n\u001b[1;32m    941\u001b[0m         \u001b[0;32melif\u001b[0m \u001b[0mkey_is_scalar\u001b[0m\u001b[0;34m:\u001b[0m\u001b[0;34m\u001b[0m\u001b[0;34m\u001b[0m\u001b[0m\n\u001b[0;32m--> 942\u001b[0;31m             \u001b[0;32mreturn\u001b[0m \u001b[0mself\u001b[0m\u001b[0;34m.\u001b[0m\u001b[0m_get_value\u001b[0m\u001b[0;34m(\u001b[0m\u001b[0mkey\u001b[0m\u001b[0;34m)\u001b[0m\u001b[0;34m\u001b[0m\u001b[0;34m\u001b[0m\u001b[0m\n\u001b[0m\u001b[1;32m    943\u001b[0m \u001b[0;34m\u001b[0m\u001b[0m\n\u001b[1;32m    944\u001b[0m         \u001b[0;32mif\u001b[0m \u001b[0mis_hashable\u001b[0m\u001b[0;34m(\u001b[0m\u001b[0mkey\u001b[0m\u001b[0;34m)\u001b[0m\u001b[0;34m:\u001b[0m\u001b[0;34m\u001b[0m\u001b[0;34m\u001b[0m\u001b[0m\n",
            "\u001b[0;32m/usr/local/lib/python3.7/dist-packages/pandas/core/series.py\u001b[0m in \u001b[0;36m_get_value\u001b[0;34m(self, label, takeable)\u001b[0m\n\u001b[1;32m   1049\u001b[0m \u001b[0;34m\u001b[0m\u001b[0m\n\u001b[1;32m   1050\u001b[0m         \u001b[0;31m# Similar to Index.get_value, but we do not fall back to positional\u001b[0m\u001b[0;34m\u001b[0m\u001b[0;34m\u001b[0m\u001b[0;34m\u001b[0m\u001b[0m\n\u001b[0;32m-> 1051\u001b[0;31m         \u001b[0mloc\u001b[0m \u001b[0;34m=\u001b[0m \u001b[0mself\u001b[0m\u001b[0;34m.\u001b[0m\u001b[0mindex\u001b[0m\u001b[0;34m.\u001b[0m\u001b[0mget_loc\u001b[0m\u001b[0;34m(\u001b[0m\u001b[0mlabel\u001b[0m\u001b[0;34m)\u001b[0m\u001b[0;34m\u001b[0m\u001b[0;34m\u001b[0m\u001b[0m\n\u001b[0m\u001b[1;32m   1052\u001b[0m         \u001b[0;32mreturn\u001b[0m \u001b[0mself\u001b[0m\u001b[0;34m.\u001b[0m\u001b[0mindex\u001b[0m\u001b[0;34m.\u001b[0m\u001b[0m_get_values_for_loc\u001b[0m\u001b[0;34m(\u001b[0m\u001b[0mself\u001b[0m\u001b[0;34m,\u001b[0m \u001b[0mloc\u001b[0m\u001b[0;34m,\u001b[0m \u001b[0mlabel\u001b[0m\u001b[0;34m)\u001b[0m\u001b[0;34m\u001b[0m\u001b[0;34m\u001b[0m\u001b[0m\n\u001b[1;32m   1053\u001b[0m \u001b[0;34m\u001b[0m\u001b[0m\n",
            "\u001b[0;32m/usr/local/lib/python3.7/dist-packages/pandas/core/indexes/range.py\u001b[0m in \u001b[0;36mget_loc\u001b[0;34m(self, key, method, tolerance)\u001b[0m\n\u001b[1;32m    386\u001b[0m                 \u001b[0;32mexcept\u001b[0m \u001b[0mValueError\u001b[0m \u001b[0;32mas\u001b[0m \u001b[0merr\u001b[0m\u001b[0;34m:\u001b[0m\u001b[0;34m\u001b[0m\u001b[0;34m\u001b[0m\u001b[0m\n\u001b[1;32m    387\u001b[0m                     \u001b[0;32mraise\u001b[0m \u001b[0mKeyError\u001b[0m\u001b[0;34m(\u001b[0m\u001b[0mkey\u001b[0m\u001b[0;34m)\u001b[0m \u001b[0;32mfrom\u001b[0m \u001b[0merr\u001b[0m\u001b[0;34m\u001b[0m\u001b[0;34m\u001b[0m\u001b[0m\n\u001b[0;32m--> 388\u001b[0;31m             \u001b[0;32mraise\u001b[0m \u001b[0mKeyError\u001b[0m\u001b[0;34m(\u001b[0m\u001b[0mkey\u001b[0m\u001b[0;34m)\u001b[0m\u001b[0;34m\u001b[0m\u001b[0;34m\u001b[0m\u001b[0m\n\u001b[0m\u001b[1;32m    389\u001b[0m         \u001b[0;32mreturn\u001b[0m \u001b[0msuper\u001b[0m\u001b[0;34m(\u001b[0m\u001b[0;34m)\u001b[0m\u001b[0;34m.\u001b[0m\u001b[0mget_loc\u001b[0m\u001b[0;34m(\u001b[0m\u001b[0mkey\u001b[0m\u001b[0;34m,\u001b[0m \u001b[0mmethod\u001b[0m\u001b[0;34m=\u001b[0m\u001b[0mmethod\u001b[0m\u001b[0;34m,\u001b[0m \u001b[0mtolerance\u001b[0m\u001b[0;34m=\u001b[0m\u001b[0mtolerance\u001b[0m\u001b[0;34m)\u001b[0m\u001b[0;34m\u001b[0m\u001b[0;34m\u001b[0m\u001b[0m\n\u001b[1;32m    390\u001b[0m \u001b[0;34m\u001b[0m\u001b[0m\n",
            "\u001b[0;31mKeyError\u001b[0m: 'Horsepower'"
          ]
        }
      ]
    },
    {
      "cell_type": "markdown",
      "source": [
        "Returns all the number of times for each value in the `Type` \n"
      ],
      "metadata": {
        "id": "OpIooN5hCEik"
      }
    },
    {
      "cell_type": "code",
      "source": [
        "df['Type'].value_counts()"
      ],
      "metadata": {
        "id": "IayJSXko7OtX"
      },
      "execution_count": null,
      "outputs": []
    },
    {
      "cell_type": "markdown",
      "source": [
        "### Bar plot\n",
        "Use barh() to draw the average of the `horsepower' by `Type`\n",
        "\n",
        "- Make a list named My_horsepowerList\n",
        "- Use only Small, Midsize, Compact, Sporty, Large, and Van for Type"
      ],
      "metadata": {
        "id": "0CmCP-4HC2U2"
      }
    },
    {
      "cell_type": "code",
      "source": [
        "TypeList=list(set(df['Type'].dropna().values))\n",
        "\n",
        "# Make List\n",
        "My_HorsepowerList=[\n",
        "   #####make code######\n",
        "   df_sample[df_sample['Type'=='Small']['Horsepower'].mean(),\n",
        "             df_sample['Type'=='Midsize']['Horsepower'].mean(),\n",
        "             df_sample['Type'=='Compact']['Horsepower'].mean(),\n",
        "             df_sample['Type'=='Sporty']['Horsepower'].mean(),\n",
        "             df_sample['Type'=='Large']['Horsepower'].mean(),\n",
        "             df_sample['Type'=='Van']['Horsepower'].mean(),\n",
        "]\n",
        "\n",
        "# Draw plot\n",
        "plt.barh(TypeList, My_HorsepowerList)\n",
        "plt.title('Average of Horsepower by Type')\n",
        "plt.xlabel('Mean')\n",
        "plt.ylabel('Type')"
      ],
      "metadata": {
        "id": "rFG6lw8o7pj5"
      },
      "execution_count": null,
      "outputs": []
    },
    {
      "cell_type": "markdown",
      "source": [
        "### Pie Plot\n",
        "\n",
        "Draw *pie chart* of `Type` (hint, refer pandas'  [`.value_counts`](https://pandas.pydata.org/pandas-docs/stable/reference/api/pandas.Series.value_counts.html) method ).\n",
        "Please give the `startangle` option to 30\n",
        "\n",
        "- Use `autopct` to represent decimal places"
      ],
      "metadata": {
        "id": "BdXkcFThD7Op"
      }
    },
    {
      "cell_type": "code",
      "source": [
        "typeCount = df['Type'].value_counts(normalize=True)\n",
        "# typeCount\n",
        "fig, ax = plt.subplots(figsize=(6,6))\n",
        "\n",
        "# Draw!!\n",
        "ax.pie(\n",
        "      ###########\n",
        "       typeCount,\n",
        "       labels = typeCount.index,\n",
        "       startangle = 30\n",
        "      ###########\n",
        "    )\n",
        "\n",
        "\n",
        "plt.show()"
      ],
      "metadata": {
        "id": "C6ibEj1wD3qZ"
      },
      "execution_count": null,
      "outputs": []
    },
    {
      "cell_type": "markdown",
      "metadata": {
        "id": "zo0NPo0dySM_"
      },
      "source": [
        "## Seaborn\n",
        "Please refer the [official doc](https://seaborn.pydata.org/)."
      ]
    },
    {
      "cell_type": "markdown",
      "metadata": {
        "id": "P3-cBELIytAp"
      },
      "source": [
        "### Boxplot\n",
        "Plot *boxplot* which comparing the `Price` according to `Manufacturer`. The plot must satisify following conditions.\n",
        " * nested grouping within additional categorical variable, `Origin`\n",
        " * using `Blues` color palette\n"
      ]
    },
    {
      "cell_type": "code",
      "metadata": {
        "id": "AOi3qiCtyYFf"
      },
      "source": [
        "fig, ax = plt.subplots(figsize=(31,8))\n",
        "sns.boxplot(\n",
        "    data = df,\n",
        "    x='Manufacturer',\n",
        "    y = 'Price',\n",
        "    hue='Origin',\n",
        "    palette='Blues'\n",
        ")\n",
        "\n",
        "plt.show()"
      ],
      "execution_count": null,
      "outputs": []
    },
    {
      "cell_type": "markdown",
      "source": [
        "## Heatmap and Pairplot\n",
        "This part brought the correlation problem that was dealt with in the previous practice problem. Please refer `lecture3.ipynb`"
      ],
      "metadata": {
        "id": "3yQX3EBGZeq0"
      }
    },
    {
      "cell_type": "markdown",
      "source": [
        "- Select `Price`,`Horsepower`, `Passengers`, `Length`, `Weight`\n",
        "- Put this in the `df`\n",
        "- Use the `pearson` method to obtain the correlation value\n"
      ],
      "metadata": {
        "id": "aNPn5XvOYD7W"
      }
    },
    {
      "cell_type": "code",
      "source": [
        "targetVar = ['Price','Horsepower','Passengers','Length','Weight'] \n",
        "selectedDataFrame = df[targetVar]\n",
        "corr = selectedDataFrame.corr(method='pearson')\n",
        "corr"
      ],
      "metadata": {
        "id": "f4R2w7_-HBYS"
      },
      "execution_count": null,
      "outputs": []
    },
    {
      "cell_type": "markdown",
      "source": [
        "Make *heatmap*!\n",
        "- Make it the `4th` decimal place\n",
        "- Set the color to `bone_r`"
      ],
      "metadata": {
        "id": "9qGFQDPiZO6N"
      }
    },
    {
      "cell_type": "code",
      "source": [
        "ax = sns.heatmap(corr, annot=True, fmt=\".4f\",cmap='bone_r')"
      ],
      "metadata": {
        "id": "IJmv8HZtA9x2"
      },
      "execution_count": null,
      "outputs": []
    },
    {
      "cell_type": "markdown",
      "source": [
        "Plot *pair plot*. The plot must satisify following conditions.\n",
        "\n",
        "- Create a pair plot using the `targetvar` value above \n",
        "- Put the corr value in the pair plot in `text format`!"
      ],
      "metadata": {
        "id": "54h6a-WeZvMG"
      }
    },
    {
      "cell_type": "code",
      "metadata": {
        "id": "lnhm-HQs2ASf"
      },
      "source": [
        "g = sns.pairplot(selectedDataFrame)\n",
        "\n",
        "corrValue = corr.to_numpy()\n",
        "for i, (ax, cv) in enumerate(zip(g.axes.flat, corrValue.flatten())):\n",
        "    ax.text(0.4,0.8,f\"Corr: {cv:4f}\", fontsize = 9,\n",
        "            horizontalalignment = 'left',verticalalignment='top',\n",
        "            transform=ax.transAxes)\n",
        "\n",
        "plt.show()"
      ],
      "execution_count": null,
      "outputs": []
    },
    {
      "cell_type": "markdown",
      "metadata": {
        "id": "-rvzvY_z9Oau"
      },
      "source": [
        "# Plotly"
      ]
    },
    {
      "cell_type": "markdown",
      "metadata": {
        "id": "Z_kiQ470FuB0"
      },
      "source": [
        "### Density contour plot\n",
        "Plot *density contour plot* and deploy the dashboard.\n",
        "* The *density contour plot* should show relationship between `Price` and user choosen variable among `MPG.city`, `MPG.highway`, `Rev.per.mile`.\n",
        "\n",
        "(please refer [official doc](https://plotly.com/python/2d-histogram-contour/) about *density contour plot*)\n"
      ]
    },
    {
      "cell_type": "code",
      "metadata": {
        "id": "6Cybz3WK9j1j"
      },
      "source": [
        "# install packages\n",
        "!pip install dash\n",
        "!pip install jupyter_dash"
      ],
      "execution_count": null,
      "outputs": []
    },
    {
      "cell_type": "code",
      "metadata": {
        "id": "irw4GHlk9Pg1"
      },
      "source": [
        "import dash\n",
        "from dash import html\n",
        "import plotly.graph_objects as go\n",
        "from dash import dcc\n",
        "import plotly.express as px\n",
        "from dash.dependencies import Input, Output\n",
        "\n",
        "from jupyter_dash import JupyterDash\n",
        "\n",
        "# Load Dash App\n",
        "app = JupyterDash()\n",
        "\n",
        "# Define App\n",
        "app.layout = html.Div(id = 'parent',\n",
        "                      children = [html.H1(id = 'H1', children = 'Cas93 Dashboard',\n",
        "                                          style = {'textAlign':'center',\\\n",
        "                                                   'marginTop':40,\n",
        "                                                   'marginBottom':40}),\n",
        "                                  dcc.Dropdown(###########\n",
        "                                               options = [{'label':'MPG.city', 'value' : 'MPG.city'},\n",
        "                                                          {'label':'MPG.highway', 'value' : 'MPG.highway'},\n",
        "                                                          {'label':'Rev.per.mile', 'value' : 'Rev.per.mile'}],\n",
        "                                                          value = 'MPG.city'),\n",
        "                                                          dcc.Graph(id = 'plot')\n",
        "                                                          ])\n",
        "                                               ###########\n",
        "                                               ),\n",
        "                                  dcc.Graph(id = 'plot')\n",
        "                                  ])\n",
        "\n",
        "# Define callback decorator and it's function    \n",
        "@app.callback(Output(component_id='plot', component_property= 'figure'),\n",
        "              [Input(component_id='dropdown', component_property= 'value')])\n",
        "def graph_update(dropdown_value):\n",
        "    print(dropdown_value)\n",
        "    fig = px.density_contour(df, x='Price', y=df['{}'.format(dropdown_value)],\n",
        "                             marginal_x='histogram', marginal_y='histogram')\n",
        "\n",
        "    return fig  \n",
        "\n",
        "if __name__ == '__main__': \n",
        "    app.run_server()"
      ],
      "execution_count": null,
      "outputs": []
    },
    {
      "cell_type": "markdown",
      "source": [
        "#TODO\n",
        "이번에 할 데이터는 `NBA선수 데이터`와 `로또 데이터` 입니다! \n",
        "\n",
        "출발~~~!!!"
      ],
      "metadata": {
        "id": "EkDsqBuAvxRN"
      }
    },
    {
      "cell_type": "markdown",
      "source": [
        "## NBA data\n",
        "아래에 보이는 데이터는 NBA선수 데이터 입니다!\n",
        "\n",
        "선수들의 소속팀, 이름, 키, 몸무게, 시즌, 출신대학교 등등이있습니다."
      ],
      "metadata": {
        "id": "5R2IFkpJc0uG"
      }
    },
    {
      "cell_type": "code",
      "source": [
        "df_players = pd.read_csv('https://raw.githubusercontent.com/wonseok-hong/DAP_TA/main/all_seasons.csv')\n",
        "df_players"
      ],
      "metadata": {
        "id": "0f12xkLvmic0"
      },
      "execution_count": null,
      "outputs": []
    },
    {
      "cell_type": "markdown",
      "source": [
        "### 1. scatter plot을 이용하여 선수들의 키와 몸무게 비교\n",
        "\n",
        "색깔은 `#e377c2`색을 넣어주시면 됩니다. 마커는 `x`표시로 해주세요! 마커 투명도는 0.5로 주시면됩니다!\n",
        "\n",
        "레이블과 타이틀또한 정답과 동일하게 해주세요!"
      ],
      "metadata": {
        "id": "7Dm00v44USGP"
      }
    },
    {
      "cell_type": "code",
      "source": [
        "x = [df_players['player_height']]\n",
        "y = [df_players['player_weight']]\n",
        "\n",
        "########### Make Code ###########\n",
        "plt.scatter(x,y,c='#e377c2', marker='x',alpha=0.5)\n",
        "plt.xlabel(\"height\")\n",
        "plt.ylabel(\"weight\")\n",
        "plt.title(\"The body size of the players\")\n",
        "plt.show()"
      ],
      "metadata": {
        "id": "7f97R5AQzKN1"
      },
      "execution_count": null,
      "outputs": []
    },
    {
      "cell_type": "markdown",
      "source": [
        "### 2. plotly사용해보기!\n",
        "\n",
        "plotly를 이용하여 선수들의 키와 몸무게(`player_height`와 `player_weight`)를 비교하고 마우스로 댔을때 player_name나오게 해주세요.  \n",
        "\n",
        "또한 `pts`별 색깔도 적용해주세요!"
      ],
      "metadata": {
        "id": "xMPnlGfTUjRg"
      }
    },
    {
      "cell_type": "code",
      "source": [
        "fig = px.scatter(df_players,x='player_height',y='player_weight',color='pts',hover_data=['player_name'])\n",
        "fig.show()"
      ],
      "metadata": {
        "id": "wbhyAy_Iz_IO"
      },
      "execution_count": null,
      "outputs": []
    },
    {
      "cell_type": "markdown",
      "source": [
        "### 3. 데이터 전처리\n",
        "\n",
        "여기서서는 `Stephen Curry`선수의 데이터를 Curry_data에 저장해주세요!"
      ],
      "metadata": {
        "id": "RA-NfRi2fIi4"
      }
    },
    {
      "cell_type": "code",
      "source": [
        "Curry_data = df_players[df_players['player_name']=='Stephen Curry']\n",
        "Curry_data"
      ],
      "metadata": {
        "id": "fJanvN31uT73"
      },
      "execution_count": null,
      "outputs": []
    },
    {
      "cell_type": "markdown",
      "source": [
        "### 4. LinePlot그려보기\n",
        "\n",
        "`lineplot`을 이용하여 Stephen Curry선수의 시즌별 `pts`, `reb`, `ast`값 비교해보세요! \n",
        "\n",
        "아래그림처럼 plot을 그리면됩니다!"
      ],
      "metadata": {
        "id": "4xVNo2k76vgi"
      }
    },
    {
      "cell_type": "code",
      "source": [
        "# pts \n",
        "plt.figure(figsize=(10,7))\n",
        "x = Curry_data['pts']\n",
        "y = ###########\n",
        "\n",
        "\n",
        "plt###########\n",
        "\n",
        "# reb\n",
        "x = ###########\n",
        "y = ###########\n",
        "\n",
        "plt###########\n",
        "\n",
        "#ast\n",
        "x = ###########\n",
        "y = ###########\n",
        "\n",
        "plt###########\n",
        "\n",
        "\n",
        "########### Make ###########\n",
        "\n",
        "\n",
        "############################\n",
        "\n",
        "plt.show()"
      ],
      "metadata": {
        "id": "GjLhuTxj5z7s"
      },
      "execution_count": null,
      "outputs": []
    },
    {
      "cell_type": "markdown",
      "source": [
        "### 5. Pie Plot그려보기!\n",
        "\n",
        "2015-16 시즌 이상 시즌별 Curry의 득점률 비교하는 문제입니다!\n",
        "\n",
        "- 색깔은 `mediumorchid`,`khaki`,`palegreen`,`deeppink`,`orange`,`teal`,`royalblue`을 조합해서 이용해주세요!\n",
        "- 제일 득점률이 높은 시즌의 슬라이스를 분리해주세요!\n",
        "- 참조 : [ref](https://matplotlib.org/stable/api/_as_gen/matplotlib.pyplot.pie.html),  [article](https://medium.com/@kvnamipara/a-better-visualisation-of-pie-charts-by-matplotlib-935b7667d77f) about *pie chart*\n",
        "\n"
      ],
      "metadata": {
        "id": "XpdQuwvk7MB0"
      }
    },
    {
      "cell_type": "code",
      "source": [
        "seasonCount = ###########\n",
        "# typeCount\n",
        "fig, ax = plt.subplots(figsize=(7,7))\n",
        "\n",
        "ax.pie(\n",
        "      ##########################\n",
        "    )\n",
        "ax.legend()\n",
        "\n",
        "#draw white circle in the middle\n",
        "centre_circle = ##########\n",
        "ax##############\n",
        "\n",
        "plt.show()"
      ],
      "metadata": {
        "id": "OW3P4LBwkkuQ"
      },
      "execution_count": null,
      "outputs": []
    },
    {
      "cell_type": "markdown",
      "source": [
        "## 로또 데이터\n",
        "아래 데이터는 로또 데이터입니다! 2022-12-07부터 2021-04-24 날짜의 로또번호를 담고있습니다! "
      ],
      "metadata": {
        "id": "y7NrVLUxiz3r"
      }
    },
    {
      "cell_type": "code",
      "source": [
        "df_lotto = pd.read_csv('https://raw.githubusercontent.com/wonseok-hong/DAP_TA/main/DATA_Korean_Lotto_20021207-20210424.csv')\n",
        "df_lotto"
      ],
      "metadata": {
        "id": "fnozlNSS4Nu2"
      },
      "execution_count": null,
      "outputs": []
    },
    {
      "cell_type": "markdown",
      "source": [
        "### 6. 여러 subplot에 barplot을 이용하여 그리기\n",
        "각각의 num에 어떤 숫자가 제일 많이 나왔는지 보기\n",
        "- boxplot을 이용하여 여러 subplot들을 만들어 한번에 그려주세요!\n",
        "- plot의 모든 x좌표 간격을 1칸씩으로 만들어주세요!\n",
        "- 각각의 plot마다 title을 달아주세요!"
      ],
      "metadata": {
        "id": "I9sGprwVok5U"
      }
    },
    {
      "cell_type": "code",
      "source": [
        "fig, ax = plt.subplots(2,3)\n",
        "fig.set_size_inches((35,10))\n",
        "plt.subplots_adjust(wspace=0.2,hspace=0.2)\n",
        "\n",
        "########### Make Code #####################\n",
        "\n",
        "\n",
        "\n",
        "###########################################\n",
        "\n",
        "plt.show()"
      ],
      "metadata": {
        "id": "4MP0w_808Re9"
      },
      "execution_count": null,
      "outputs": []
    },
    {
      "cell_type": "markdown",
      "source": [
        "### [optional] 로또 번호의 보너스 숫자는 원하는 plot들을 이용하여 자유롭게 만들어 보세요!"
      ],
      "metadata": {
        "id": "bD7H3M-BKGRw"
      }
    },
    {
      "cell_type": "code",
      "source": [
        "###########힘내세용##########"
      ],
      "metadata": {
        "id": "IP31mWnqJX60"
      },
      "execution_count": null,
      "outputs": []
    }
  ]
}